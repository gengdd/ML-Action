{
 "cells": [
  {
   "cell_type": "code",
   "execution_count": 1,
   "metadata": {},
   "outputs": [],
   "source": [
    "from numpy import *\n",
    "from numpy import linalg as la"
   ]
  },
  {
   "cell_type": "code",
   "execution_count": 16,
   "metadata": {},
   "outputs": [],
   "source": [
    "def loadExData():\n",
    "    return [[0, 0, 0, 2, 2],\n",
    "            [0, 0, 0, 3, 3],\n",
    "            [0, 0, 0, 1, 1],\n",
    "            [1, 1, 1, 0, 0],\n",
    "            [2, 2, 2, 0, 0],\n",
    "            [5, 5, 5, 0, 0],\n",
    "            [1, 1, 1, 0, 0]]\n",
    "def loadExData2():\n",
    "    return [[0, 0, 0, 0, 0, 4, 0, 0, 0, 0, 5],\n",
    "            [0, 0, 0, 3, 0, 4, 0, 0, 0, 0, 3],\n",
    "            [0, 0, 0, 0, 4, 0, 0, 1, 0, 4, 0],\n",
    "            [3, 3, 4, 0, 0, 0, 0, 2, 2, 0, 0],\n",
    "            [5, 4, 5, 0, 0, 0, 0, 5, 5, 0, 0],\n",
    "            [0, 0, 0, 0, 5, 0, 1, 0, 0, 5, 0],\n",
    "            [4, 3, 4, 0, 0, 0, 0, 5, 5, 0, 1],\n",
    "            [0, 0, 0, 4, 0, 4, 0, 0, 0, 0, 4],\n",
    "            [0, 0, 0, 2, 0, 2, 5, 0, 0, 1, 2],\n",
    "            [0, 0, 0, 0, 5, 0, 0, 0, 0, 4, 0],\n",
    "            [1, 0, 0, 0, 0, 0, 0, 1, 2, 0, 0]]"
   ]
  },
  {
   "cell_type": "code",
   "execution_count": 4,
   "metadata": {},
   "outputs": [],
   "source": [
    "def ecludSim(inA,inB):\n",
    "    return 1.0/(1.0+la.norm(inA-inB))\n",
    "def pearsSim(inA,inB):\n",
    "    if len(inA)<3:return 1.0\n",
    "    return 0.5+0.5*corrcoef(inA,inB,rowvar=0)[0][1]\n",
    "def cosSim(inA,inB):\n",
    "    num=float(inA.T*inB)\n",
    "    denom=la.norm(inA)*la.norm(inB)\n",
    "    return 0.5+0.5*(num/denom)"
   ]
  },
  {
   "cell_type": "code",
   "execution_count": 25,
   "metadata": {},
   "outputs": [],
   "source": [
    "def standEst(dataMat,user,simMeas,item):\n",
    "    n=shape(dataMat)[1]\n",
    "    simTotal=0.0\n",
    "    ratSimTotal=0.0\n",
    "    for j in range(n):\n",
    "        userRating=dataMat[user,j]\n",
    "        if userRating==0: continue\n",
    "        overLap=nonzero(logical_and(dataMat[:,item].A>0,dataMat[:,j].A>0))[0]\n",
    "        if len(overLap)==0:\n",
    "            similarity=0\n",
    "        else:\n",
    "            similarity=simMeas(dataMat[overLap,item],dataMat[overLap,j])\n",
    "        print('the %d and %d similarity is: %f'%(item,j,similarity))\n",
    "        simTotal+=similarity\n",
    "        ratSimTotal+=similarity*userRating\n",
    "    if simTotal==0:\n",
    "        return 0\n",
    "    else:\n",
    "        return ratSimTotal/simTotal"
   ]
  },
  {
   "cell_type": "code",
   "execution_count": 26,
   "metadata": {},
   "outputs": [],
   "source": [
    "def recommend(dataMat,user,N=3,simMeas=cosSim,estMethod=standEst):\n",
    "    unratedItems=nonzero(dataMat[user,:].A==0)[1]\n",
    "    if len(unratedItems)==0: return ('you rated everything')\n",
    "    itemScores=[]\n",
    "    for item in unratedItems:\n",
    "        estimatedScore=estMethod(dataMat,user,simMeas,item)\n",
    "        itemScores.append((item,estimatedScore))\n",
    "    return sorted(itemScores,key=lambda jj:jj[1],reverse=True)[:N]"
   ]
  },
  {
   "cell_type": "code",
   "execution_count": 27,
   "metadata": {},
   "outputs": [
    {
     "data": {
      "text/plain": [
       "matrix([[4, 4, 0, 2, 2],\n",
       "        [4, 0, 0, 3, 3],\n",
       "        [4, 0, 0, 1, 1],\n",
       "        [1, 1, 1, 2, 0],\n",
       "        [2, 2, 2, 0, 0],\n",
       "        [5, 5, 5, 0, 0],\n",
       "        [1, 1, 1, 0, 0]])"
      ]
     },
     "execution_count": 27,
     "metadata": {},
     "output_type": "execute_result"
    }
   ],
   "source": [
    "myMat=mat(loadExData())\n",
    "myMat[0,1]=myMat[0,0]=myMat[1,0]=myMat[2,0]=4\n",
    "myMat[3,3]=2\n",
    "myMat"
   ]
  },
  {
   "cell_type": "code",
   "execution_count": 28,
   "metadata": {},
   "outputs": [
    {
     "name": "stdout",
     "output_type": "stream",
     "text": [
      "the 1 and 0 similarity is: 1.000000\n",
      "the 1 and 3 similarity is: 0.928746\n",
      "the 1 and 4 similarity is: 1.000000\n",
      "the 2 and 0 similarity is: 1.000000\n",
      "the 2 and 3 similarity is: 1.000000\n",
      "the 2 and 4 similarity is: 0.000000\n"
     ]
    },
    {
     "data": {
      "text/plain": [
       "[(2, 2.5), (1, 2.0243290220056256)]"
      ]
     },
     "execution_count": 28,
     "metadata": {},
     "output_type": "execute_result"
    }
   ],
   "source": [
    "recommend(myMat,2)"
   ]
  },
  {
   "cell_type": "code",
   "execution_count": 29,
   "metadata": {},
   "outputs": [],
   "source": [
    "def svdEst(dataMat,user,simMeas,item):\n",
    "    n=shape(dataMat)[1]\n",
    "    simTotal=0.0\n",
    "    ratSimTotal=0.0\n",
    "    U,Sigma,VT=la.svd(dataMat)\n",
    "    Sig4=mat(eye(4)*Sigma[:4])\n",
    "    xformedItems=dataMat.T*U[:,:4]*Sig4.I\n",
    "    for j in range(n):\n",
    "        userRating=dataMat[user,j]\n",
    "        if userRating==0 or j==item: continue\n",
    "        similarity=simMeas(xformedItems[item,:].T,xformedItems[j,:].T)\n",
    "        print('the %d and %d similarity is: %f'%(item,j,similarity))\n",
    "        simTotal+=similarity\n",
    "        ratSimTotal+=similarity*userRating\n",
    "    if simTotal==0:\n",
    "        return 0\n",
    "    else:\n",
    "        return ratSimTotal/simTotal"
   ]
  },
  {
   "cell_type": "code",
   "execution_count": 31,
   "metadata": {},
   "outputs": [],
   "source": [
    "myMat=mat(loadExData2())"
   ]
  },
  {
   "cell_type": "code",
   "execution_count": 32,
   "metadata": {},
   "outputs": [
    {
     "name": "stdout",
     "output_type": "stream",
     "text": [
      "the 0 and 3 similarity is: 0.490950\n",
      "the 0 and 5 similarity is: 0.484274\n",
      "the 0 and 10 similarity is: 0.512755\n",
      "the 1 and 3 similarity is: 0.491294\n",
      "the 1 and 5 similarity is: 0.481516\n",
      "the 1 and 10 similarity is: 0.509709\n",
      "the 2 and 3 similarity is: 0.491573\n",
      "the 2 and 5 similarity is: 0.482346\n",
      "the 2 and 10 similarity is: 0.510584\n",
      "the 4 and 3 similarity is: 0.450495\n",
      "the 4 and 5 similarity is: 0.506795\n",
      "the 4 and 10 similarity is: 0.512896\n",
      "the 6 and 3 similarity is: 0.743699\n",
      "the 6 and 5 similarity is: 0.468366\n",
      "the 6 and 10 similarity is: 0.439465\n",
      "the 7 and 3 similarity is: 0.482175\n",
      "the 7 and 5 similarity is: 0.494716\n",
      "the 7 and 10 similarity is: 0.524970\n",
      "the 8 and 3 similarity is: 0.491307\n",
      "the 8 and 5 similarity is: 0.491228\n",
      "the 8 and 10 similarity is: 0.520290\n",
      "the 9 and 3 similarity is: 0.522379\n",
      "the 9 and 5 similarity is: 0.496130\n",
      "the 9 and 10 similarity is: 0.493617\n"
     ]
    },
    {
     "data": {
      "text/plain": [
       "[(4, 3.344714938469228), (7, 3.3294020724526963), (9, 3.328100876390069)]"
      ]
     },
     "execution_count": 32,
     "metadata": {},
     "output_type": "execute_result"
    }
   ],
   "source": [
    "recommend(myMat,1,estMethod=svdEst)"
   ]
  },
  {
   "cell_type": "code",
   "execution_count": 40,
   "metadata": {},
   "outputs": [],
   "source": [
    "#打印矩阵。由于矩阵包含了浮点数,因此必须定义浅色和深色。\n",
    "def printMat(inMat, thresh=0.8):\n",
    "    for i in range(32):\n",
    "        for k in range(32):\n",
    "            if float(inMat[i,k]) > thresh:\n",
    "                print (1,end='')\n",
    "            else: print (0,end='')\n",
    "        print ('')"
   ]
  },
  {
   "cell_type": "code",
   "execution_count": 41,
   "metadata": {},
   "outputs": [],
   "source": [
    "def imgCompress(numSV=3, thresh=0.8):\n",
    "    myl = []\n",
    "    for line in open('0_5.txt').readlines():\n",
    "        newRow = []\n",
    "        for i in range(32):\n",
    "            newRow.append(int(line[i]))\n",
    "        myl.append(newRow)\n",
    "    myMat = mat(myl)\n",
    "    print (\"****original matrix******\")\n",
    "    printMat(myMat, thresh)\n",
    "    U,Sigma,VT = la.svd(myMat) #SVD分解\n",
    "    SigRecon = mat(zeros((numSV, numSV))) #创建初始特征\n",
    "    for k in range(numSV):#构造对角矩阵\n",
    "        SigRecon[k,k] = Sigma[k]\n",
    "    reconMat = U[:,:numSV]*SigRecon*VT[:numSV,:]\n",
    "    print (\"****reconstructed matrix using %d singular values******\" % numSV)\n",
    "    printMat(reconMat, thresh)"
   ]
  },
  {
   "cell_type": "code",
   "execution_count": 42,
   "metadata": {},
   "outputs": [
    {
     "name": "stdout",
     "output_type": "stream",
     "text": [
      "****original matrix******\n",
      "00000000000000110000000000000000\n",
      "00000000000011111100000000000000\n",
      "00000000000111111110000000000000\n",
      "00000000001111111111000000000000\n",
      "00000000111111111111100000000000\n",
      "00000001111111111111110000000000\n",
      "00000000111111111111111000000000\n",
      "00000000111111100001111100000000\n",
      "00000001111111000001111100000000\n",
      "00000011111100000000111100000000\n",
      "00000011111100000000111110000000\n",
      "00000011111100000000011110000000\n",
      "00000011111100000000011110000000\n",
      "00000001111110000000001111000000\n",
      "00000011111110000000001111000000\n",
      "00000011111100000000001111000000\n",
      "00000001111100000000001111000000\n",
      "00000011111100000000001111000000\n",
      "00000001111100000000001111000000\n",
      "00000001111100000000011111000000\n",
      "00000000111110000000001111100000\n",
      "00000000111110000000001111100000\n",
      "00000000111110000000001111100000\n",
      "00000000111110000000011111000000\n",
      "00000000111110000000111111000000\n",
      "00000000111111000001111110000000\n",
      "00000000011111111111111110000000\n",
      "00000000001111111111111110000000\n",
      "00000000001111111111111110000000\n",
      "00000000000111111111111000000000\n",
      "00000000000011111111110000000000\n",
      "00000000000000111111000000000000\n",
      "****reconstructed matrix using 2 singular values******\n",
      "00000000000000000000000000000000\n",
      "00000000000000000000000000000000\n",
      "00000000000001111100000000000000\n",
      "00000000000011111111000000000000\n",
      "00000000000111111111100000000000\n",
      "00000000001111111111110000000000\n",
      "00000000001111111111110000000000\n",
      "00000000011110000000001000000000\n",
      "00000000111100000000001100000000\n",
      "00000000111100000000001110000000\n",
      "00000000111100000000001110000000\n",
      "00000000111100000000001110000000\n",
      "00000000111100000000001110000000\n",
      "00000000111100000000001110000000\n",
      "00000000111100000000001110000000\n",
      "00000000111100000000001110000000\n",
      "00000000111100000000001110000000\n",
      "00000000111100000000001110000000\n",
      "00000000111100000000001110000000\n",
      "00000000111100000000001110000000\n",
      "00000000111100000000001110000000\n",
      "00000000111100000000001110000000\n",
      "00000000111100000000001110000000\n",
      "00000000111100000000001110000000\n",
      "00000000111100000000001110000000\n",
      "00000000111100000000001100000000\n",
      "00000000001111111111111000000000\n",
      "00000000001111111111110000000000\n",
      "00000000001111111111110000000000\n",
      "00000000000011111111100000000000\n",
      "00000000000011111111000000000000\n",
      "00000000000000000000000000000000\n"
     ]
    }
   ],
   "source": [
    "imgCompress(2)"
   ]
  },
  {
   "cell_type": "code",
   "execution_count": null,
   "metadata": {},
   "outputs": [],
   "source": []
  }
 ],
 "metadata": {
  "kernelspec": {
   "display_name": "Python 3",
   "language": "python",
   "name": "python3"
  },
  "language_info": {
   "codemirror_mode": {
    "name": "ipython",
    "version": 3
   },
   "file_extension": ".py",
   "mimetype": "text/x-python",
   "name": "python",
   "nbconvert_exporter": "python",
   "pygments_lexer": "ipython3",
   "version": "3.6.5"
  }
 },
 "nbformat": 4,
 "nbformat_minor": 2
}

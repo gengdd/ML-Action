{
 "cells": [
  {
   "cell_type": "code",
   "execution_count": 1,
   "metadata": {},
   "outputs": [],
   "source": [
    "import numpy as np"
   ]
  },
  {
   "cell_type": "code",
   "execution_count": 2,
   "metadata": {},
   "outputs": [],
   "source": [
    "def binSplitDataSet(dataSet,feature,value):\n",
    "    mat0=dataSet[np.nonzero(dataSet[:,feature]>value)[0],:]\n",
    "    mat1=dataSet[np.nonzero(dataSet[:,feature]<=value)[0],:]\n",
    "    return mat0,mat1"
   ]
  },
  {
   "cell_type": "code",
   "execution_count": 3,
   "metadata": {},
   "outputs": [
    {
     "name": "stdout",
     "output_type": "stream",
     "text": [
      "原始集合:\n",
      " [[1. 0. 0. 0.]\n",
      " [0. 1. 0. 0.]\n",
      " [0. 0. 1. 0.]\n",
      " [0. 0. 0. 1.]]\n",
      "mat0:\n",
      " [[0. 1. 0. 0.]]\n",
      "mat1:\n",
      " [[1. 0. 0. 0.]\n",
      " [0. 0. 1. 0.]\n",
      " [0. 0. 0. 1.]]\n"
     ]
    }
   ],
   "source": [
    "testMat=np.mat(np.eye(4))\n",
    "mat0,mat1=binSplitDataSet(testMat,1,0.5)\n",
    "print('原始集合:\\n',testMat)\n",
    "print('mat0:\\n',mat0)\n",
    "print('mat1:\\n',mat1)"
   ]
  },
  {
   "cell_type": "code",
   "execution_count": 4,
   "metadata": {},
   "outputs": [],
   "source": [
    "import matplotlib.pyplot as plt\n",
    "import numpy as np"
   ]
  },
  {
   "cell_type": "code",
   "execution_count": 5,
   "metadata": {},
   "outputs": [],
   "source": [
    "def loadDataSet(fileName):\n",
    "    dataMat=[]\n",
    "    fr=open(fileName)\n",
    "    for line in fr.readlines():\n",
    "        curline=line.strip().split('\\t')\n",
    "        fleLine=list(map(float,curline))\n",
    "        dataMat.append(fleLine)\n",
    "    return dataMat"
   ]
  },
  {
   "cell_type": "code",
   "execution_count": 7,
   "metadata": {},
   "outputs": [],
   "source": [
    "def plotDataSet(fileName):\n",
    "    dataMat=loadDataSet(fileName)\n",
    "    n=len(dataMat)\n",
    "    xcord=[]\n",
    "    ycord=[]\n",
    "    for i in range(n):\n",
    "        xcord.append(dataMat[i][0])\n",
    "        ycord.append(dataMat[i][1])\n",
    "    fig=plt.figure()\n",
    "    ax=fig.add_subplot(111)\n",
    "    ax.scatter(xcord,ycord,s=20,c='blue',alpha=.5)\n",
    "    plt.title('DataSet')\n",
    "    plt.xlabel('X')"
   ]
  },
  {
   "cell_type": "code",
   "execution_count": 8,
   "metadata": {},
   "outputs": [
    {
     "data": {
      "image/png": "[encoded data removed]",
      "text/plain": [
       "<Figure size 432x288 with 1 Axes>"
      ]
     },
     "metadata": {},
     "output_type": "display_data"
    }
   ],
   "source": [
    "fileName='ex00.txt'\n",
    "plotDataSet(fileName)"
   ]
  },
  {
   "cell_type": "code",
   "execution_count": 10,
   "metadata": {},
   "outputs": [],
   "source": [
    "def binSplitDataSet(dataSet,feature,value):\n",
    "    mat0=dataSet[np.nonzero(dataSet[:,feature]>value)[0],:]\n",
    "    mat1=dataSet[np.nonzero(dataSet[:,feature]<=value)[0],:]\n",
    "    return mat0,mat1"
   ]
  },
  {
   "cell_type": "code",
   "execution_count": 11,
   "metadata": {},
   "outputs": [],
   "source": [
    "def regLeaf(dataSet):\n",
    "    return np.mean(dataSet[:,-1])"
   ]
  },
  {
   "cell_type": "code",
   "execution_count": 12,
   "metadata": {},
   "outputs": [],
   "source": [
    "def regErr(dataSet):\n",
    "    return np.var(dataSet[:,-1])*np.shape(dataSet)[0]"
   ]
  },
  {
   "cell_type": "code",
   "execution_count": 16,
   "metadata": {},
   "outputs": [],
   "source": [
    "def chooseBestSplit(dataSet,leafType=regLeaf,errType=regErr,ops=(1,4)):\n",
    "    import types\n",
    "    tolS=ops[0]\n",
    "    tolN=ops[1]\n",
    "    if len(set(dataSet[:,-1].T.tolist()[0]))==1:\n",
    "        return None,leafType(dataSet)\n",
    "    m,n=np.shape(dataSet)\n",
    "    S=errType(dataSet)\n",
    "    bestS=float('inf')\n",
    "    bestIndex=0\n",
    "    bestValues=0\n",
    "    for featIndex in range(n-1):\n",
    "        for splitVal in set(dataSet[:,featIndex].T.A.tolist()[0]):\n",
    "            mat0,mat1=binSplitDataSet(dataSet,featIndex,splitVal)\n",
    "            if (np.shape(mat0)[0]<tolN) or (np.shape(mat1)[0]<tolN):\n",
    "                continue\n",
    "            newS=errType(mat0)+errType(mat1)\n",
    "            if newS<bestS:\n",
    "                bestIndex=featIndex\n",
    "                bestValues=splitVal\n",
    "                bestS=newS\n",
    "    if (S-bestS)<tolS:\n",
    "        return None,leafType(dataSet)\n",
    "    mat0,mat1=binSplitDataSet(dataSet,bestIndex,bestValues)\n",
    "    if (np.shape(mat0)[0]<tolN) or (np.shape(mat1)[0]<tolN):\n",
    "        return None,leafType(dataSet)\n",
    "    return bestIndex,bestValues"
   ]
  },
  {
   "cell_type": "code",
   "execution_count": 17,
   "metadata": {},
   "outputs": [
    {
     "name": "stdout",
     "output_type": "stream",
     "text": [
      "0\n",
      "0.48813\n"
     ]
    }
   ],
   "source": [
    "myDat = loadDataSet('ex00.txt')\n",
    "myMat = np.mat(myDat)\n",
    "feat, val = chooseBestSplit(myMat, regLeaf, regErr, (1, 4))\n",
    "print(feat)\n",
    "print(val)"
   ]
  },
  {
   "cell_type": "code",
   "execution_count": 18,
   "metadata": {},
   "outputs": [],
   "source": [
    "def createTree(dataSet,leafType=regLeaf,errType=regErr,ops=(1,4)):\n",
    "    feat,val=chooseBestSplit(dataSet,leafType,errType,ops)\n",
    "    if feat==None:\n",
    "        return val\n",
    "    retTree={}\n",
    "    retTree['spInd']=feat\n",
    "    retTree['spVal']=val\n",
    "    lSet,rSet=binSplitDataSet(dataSet,feat,val)\n",
    "    retTree['left']=createTree(lSet,leafType,errType,ops)\n",
    "    retTree['right']=createTree(rSet,leafType,errType,ops)\n",
    "    return retTree"
   ]
  },
  {
   "cell_type": "code",
   "execution_count": 19,
   "metadata": {},
   "outputs": [
    {
     "name": "stdout",
     "output_type": "stream",
     "text": [
      "{'spInd': 0, 'spVal': 0.48813, 'left': 1.0180967672413792, 'right': -0.04465028571428572}\n"
     ]
    }
   ],
   "source": [
    "myDat = loadDataSet('ex00.txt')\n",
    "myMat = np.mat(myDat)\n",
    "print(createTree(myMat))"
   ]
  },
  {
   "cell_type": "code",
   "execution_count": 21,
   "metadata": {},
   "outputs": [],
   "source": [
    "def plotDataSet(fileName):\n",
    "    dataMat=loadDataSet(fileName)\n",
    "    n=len(dataMat)\n",
    "    xcord=[]\n",
    "    ycord=[]\n",
    "    for i in range(n):\n",
    "        xcord.append(dataMat[i][1])\n",
    "        ycord.append(dataMat[i][2])\n",
    "    fig=plt.figure()\n",
    "    ax=fig.add_subplot(111)\n",
    "    ax.scatter(xcord,ycord,s=20,c='blue',alpha=.5)\n",
    "    plt.title('DataSet')\n",
    "    plt.xlabel('X')"
   ]
  },
  {
   "cell_type": "code",
   "execution_count": 22,
   "metadata": {},
   "outputs": [
    {
     "data": {
      "image/png": "[encoded data removed]",
      "text/plain": [
       "<Figure size 432x288 with 1 Axes>"
      ]
     },
     "metadata": {},
     "output_type": "display_data"
    }
   ],
   "source": [
    "fileName='ex0.txt'\n",
    "plotDataSet(fileName)"
   ]
  },
  {
   "cell_type": "code",
   "execution_count": 23,
   "metadata": {},
   "outputs": [
    {
     "name": "stdout",
     "output_type": "stream",
     "text": [
      "{'spInd': 1, 'spVal': 0.39435, 'left': {'spInd': 1, 'spVal': 0.582002, 'left': {'spInd': 1, 'spVal': 0.797583, 'left': 3.9871632, 'right': 2.9836209534883724}, 'right': 1.980035071428571}, 'right': {'spInd': 1, 'spVal': 0.197834, 'left': 1.0289583666666666, 'right': -0.023838155555555553}}\n"
     ]
    }
   ],
   "source": [
    "fileName='ex0.txt'\n",
    "myDat=loadDataSet(fileName)\n",
    "myMat=np.mat(myDat)\n",
    "print(createTree(myMat))"
   ]
  },
  {
   "cell_type": "code",
   "execution_count": 24,
   "metadata": {},
   "outputs": [
    {
     "name": "stdout",
     "output_type": "stream",
     "text": [
      "{'spInd': 0, 'spVal': 0.499171, 'left': {'spInd': 0, 'spVal': 0.729397, 'left': {'spInd': 0, 'spVal': 0.952833, 'left': {'spInd': 0, 'spVal': 0.958512, 'left': 105.24862350000001, 'right': 112.42895575000001}, 'right': {'spInd': 0, 'spVal': 0.759504, 'left': {'spInd': 0, 'spVal': 0.790312, 'left': {'spInd': 0, 'spVal': 0.833026, 'left': {'spInd': 0, 'spVal': 0.944221, 'left': 87.3103875, 'right': {'spInd': 0, 'spVal': 0.85497, 'left': {'spInd': 0, 'spVal': 0.910975, 'left': 96.452867, 'right': {'spInd': 0, 'spVal': 0.892999, 'left': 104.825409, 'right': {'spInd': 0, 'spVal': 0.872883, 'left': 95.181793, 'right': 102.25234449999999}}}, 'right': 95.27584316666666}}, 'right': {'spInd': 0, 'spVal': 0.811602, 'left': 81.110152, 'right': 88.78449880000001}}, 'right': 102.35780185714285}, 'right': 78.08564325}}, 'right': {'spInd': 0, 'spVal': 0.640515, 'left': {'spInd': 0, 'spVal': 0.666452, 'left': {'spInd': 0, 'spVal': 0.706961, 'left': 114.554706, 'right': {'spInd': 0, 'spVal': 0.698472, 'left': 104.82495374999999, 'right': 108.92921799999999}}, 'right': 114.1516242857143}, 'right': {'spInd': 0, 'spVal': 0.613004, 'left': 93.67344971428572, 'right': {'spInd': 0, 'spVal': 0.582311, 'left': 123.2101316, 'right': {'spInd': 0, 'spVal': 0.553797, 'left': 97.20018024999999, 'right': {'spInd': 0, 'spVal': 0.51915, 'left': {'spInd': 0, 'spVal': 0.543843, 'left': 109.38961049999999, 'right': 110.979946}, 'right': 101.73699325000001}}}}}}, 'right': {'spInd': 0, 'spVal': 0.457563, 'left': {'spInd': 0, 'spVal': 0.467383, 'left': 12.50675925, 'right': 3.4331330000000007}, 'right': {'spInd': 0, 'spVal': 0.126833, 'left': {'spInd': 0, 'spVal': 0.373501, 'left': {'spInd': 0, 'spVal': 0.437652, 'left': -12.558604833333334, 'right': {'spInd': 0, 'spVal': 0.412516, 'left': 14.38417875, 'right': {'spInd': 0, 'spVal': 0.385021, 'left': -0.8923554999999995, 'right': 3.6584772500000016}}}, 'right': {'spInd': 0, 'spVal': 0.335182, 'left': {'spInd': 0, 'spVal': 0.350725, 'left': -15.08511175, 'right': -22.693879600000002}, 'right': {'spInd': 0, 'spVal': 0.324274, 'left': 15.05929075, 'right': {'spInd': 0, 'spVal': 0.297107, 'left': -19.9941552, 'right': {'spInd': 0, 'spVal': 0.166765, 'left': {'spInd': 0, 'spVal': 0.202161, 'left': {'spInd': 0, 'spVal': 0.217214, 'left': {'spInd': 0, 'spVal': 0.228473, 'left': {'spInd': 0, 'spVal': 0.25807, 'left': 0.40377471428571476, 'right': -13.070501}, 'right': 6.770429}, 'right': -11.822278500000001}, 'right': 3.4496025}, 'right': {'spInd': 0, 'spVal': 0.156067, 'left': -12.1079725, 'right': -6.247900000000001}}}}}}, 'right': {'spInd': 0, 'spVal': 0.084661, 'left': 6.509843285714284, 'right': {'spInd': 0, 'spVal': 0.044737, 'left': -2.544392714285715, 'right': 4.091626}}}}}\n"
     ]
    }
   ],
   "source": [
    "fileName='ex2.txt'\n",
    "myDat=loadDataSet(fileName)\n",
    "myMat=np.mat(myDat)\n",
    "print(createTree(myMat))"
   ]
  },
  {
   "cell_type": "code",
   "execution_count": 26,
   "metadata": {},
   "outputs": [
    {
     "name": "stdout",
     "output_type": "stream",
     "text": [
      "{'spInd': 0, 'spVal': 0.499171, 'left': 101.35815937735848, 'right': -2.637719329787234}\n"
     ]
    }
   ],
   "source": [
    "fileName='ex2.txt'\n",
    "myDat=loadDataSet(fileName)\n",
    "myMat=np.mat(myDat)\n",
    "print(createTree(myMat,ops=(10000,4)))"
   ]
  },
  {
   "cell_type": "code",
   "execution_count": 28,
   "metadata": {},
   "outputs": [],
   "source": [
    "def isTree(obj):\n",
    "    import types\n",
    "    return (type(obj).__name__=='dict')\n",
    "def getMean(tree):\n",
    "    if isTree(tree['right']):\n",
    "        tree['right']=getMean(tree['right'])\n",
    "    if isTree(tree['left']):\n",
    "        tree['left']=getMean(tree['left'])\n",
    "    return (tree['left']+tree['right'])/2.0\n",
    "def prune(tree,testData):\n",
    "    if np.shape(testData)[0] == 0: return getMean(tree)\n",
    "    #如果有左子树或者右子树,则切分数据集\n",
    "    if (isTree(tree['right']) or isTree(tree['left'])):\n",
    "        lSet, rSet = binSplitDataSet(testData, tree['spInd'], tree['spVal'])\n",
    "    #处理左子树(剪枝)\n",
    "    if isTree(tree['left']): tree['left'] = prune(tree['left'], lSet)\n",
    "    #处理右子树(剪枝)\n",
    "    if isTree(tree['right']): tree['right'] =  prune(tree['right'], rSet)\n",
    "    #如果当前结点的左右结点为叶结点\n",
    "    if not isTree(tree['left']) and not isTree(tree['right']):\n",
    "        lSet, rSet = binSplitDataSet(testData, tree['spInd'], tree['spVal'])\n",
    "        #计算没有合并的误差\n",
    "        errorNoMerge = np.sum(np.power(lSet[:,-1] - tree['left'],2)) + np.sum(np.power(rSet[:,-1] - tree['right'],2))\n",
    "        #计算合并的均值\n",
    "        treeMean = (tree['left'] + tree['right']) / 2.0\n",
    "        #计算合并的误差\n",
    "        errorMerge = np.sum(np.power(testData[:,-1] - treeMean, 2))\n",
    "        #如果合并的误差小于没有合并的误差,则合并\n",
    "        if errorMerge < errorNoMerge:\n",
    "            return treeMean\n",
    "        else: return tree\n",
    "    else: return tree"
   ]
  },
  {
   "cell_type": "code",
   "execution_count": 32,
   "metadata": {},
   "outputs": [
    {
     "name": "stdout",
     "output_type": "stream",
     "text": [
      "{'spInd': 0, 'spVal': 0.499171, 'left': {'spInd': 0, 'spVal': 0.729397, 'left': {'spInd': 0, 'spVal': 0.952833, 'left': {'spInd': 0, 'spVal': 0.958512, 'left': 105.24862350000001, 'right': 112.42895575000001}, 'right': {'spInd': 0, 'spVal': 0.759504, 'left': {'spInd': 0, 'spVal': 0.790312, 'left': {'spInd': 0, 'spVal': 0.833026, 'left': {'spInd': 0, 'spVal': 0.944221, 'left': 87.3103875, 'right': {'spInd': 0, 'spVal': 0.85497, 'left': {'spInd': 0, 'spVal': 0.910975, 'left': 96.452867, 'right': {'spInd': 0, 'spVal': 0.892999, 'left': 104.825409, 'right': {'spInd': 0, 'spVal': 0.872883, 'left': 95.181793, 'right': 102.25234449999999}}}, 'right': 95.27584316666666}}, 'right': {'spInd': 0, 'spVal': 0.811602, 'left': 81.110152, 'right': 88.78449880000001}}, 'right': 102.35780185714285}, 'right': 78.08564325}}, 'right': {'spInd': 0, 'spVal': 0.640515, 'left': {'spInd': 0, 'spVal': 0.666452, 'left': {'spInd': 0, 'spVal': 0.706961, 'left': 114.554706, 'right': {'spInd': 0, 'spVal': 0.698472, 'left': 104.82495374999999, 'right': 108.92921799999999}}, 'right': 114.1516242857143}, 'right': {'spInd': 0, 'spVal': 0.613004, 'left': 93.67344971428572, 'right': {'spInd': 0, 'spVal': 0.582311, 'left': 123.2101316, 'right': {'spInd': 0, 'spVal': 0.553797, 'left': 97.20018024999999, 'right': {'spInd': 0, 'spVal': 0.51915, 'left': {'spInd': 0, 'spVal': 0.543843, 'left': 109.38961049999999, 'right': 110.979946}, 'right': 101.73699325000001}}}}}}, 'right': {'spInd': 0, 'spVal': 0.457563, 'left': {'spInd': 0, 'spVal': 0.467383, 'left': 12.50675925, 'right': 3.4331330000000007}, 'right': {'spInd': 0, 'spVal': 0.126833, 'left': {'spInd': 0, 'spVal': 0.373501, 'left': {'spInd': 0, 'spVal': 0.437652, 'left': -12.558604833333334, 'right': {'spInd': 0, 'spVal': 0.412516, 'left': 14.38417875, 'right': {'spInd': 0, 'spVal': 0.385021, 'left': -0.8923554999999995, 'right': 3.6584772500000016}}}, 'right': {'spInd': 0, 'spVal': 0.335182, 'left': {'spInd': 0, 'spVal': 0.350725, 'left': -15.08511175, 'right': -22.693879600000002}, 'right': {'spInd': 0, 'spVal': 0.324274, 'left': 15.05929075, 'right': {'spInd': 0, 'spVal': 0.297107, 'left': -19.9941552, 'right': {'spInd': 0, 'spVal': 0.166765, 'left': {'spInd': 0, 'spVal': 0.202161, 'left': {'spInd': 0, 'spVal': 0.217214, 'left': {'spInd': 0, 'spVal': 0.228473, 'left': {'spInd': 0, 'spVal': 0.25807, 'left': 0.40377471428571476, 'right': -13.070501}, 'right': 6.770429}, 'right': -11.822278500000001}, 'right': 3.4496025}, 'right': {'spInd': 0, 'spVal': 0.156067, 'left': -12.1079725, 'right': -6.247900000000001}}}}}}, 'right': {'spInd': 0, 'spVal': 0.084661, 'left': 6.509843285714284, 'right': {'spInd': 0, 'spVal': 0.044737, 'left': -2.544392714285715, 'right': 4.091626}}}}}\n",
      "**********************************************************************\n",
      "{'spInd': 0, 'spVal': 0.499171, 'left': {'spInd': 0, 'spVal': 0.729397, 'left': {'spInd': 0, 'spVal': 0.952833, 'left': {'spInd': 0, 'spVal': 0.958512, 'left': 105.24862350000001, 'right': 112.42895575000001}, 'right': {'spInd': 0, 'spVal': 0.759504, 'left': {'spInd': 0, 'spVal': 0.790312, 'left': {'spInd': 0, 'spVal': 0.833026, 'left': {'spInd': 0, 'spVal': 0.944221, 'left': 87.3103875, 'right': {'spInd': 0, 'spVal': 0.85497, 'left': {'spInd': 0, 'spVal': 0.910975, 'left': 96.452867, 'right': {'spInd': 0, 'spVal': 0.892999, 'left': 104.825409, 'right': {'spInd': 0, 'spVal': 0.872883, 'left': 95.181793, 'right': 102.25234449999999}}}, 'right': 95.27584316666666}}, 'right': {'spInd': 0, 'spVal': 0.811602, 'left': 81.110152, 'right': 88.78449880000001}}, 'right': 102.35780185714285}, 'right': 78.08564325}}, 'right': {'spInd': 0, 'spVal': 0.640515, 'left': {'spInd': 0, 'spVal': 0.666452, 'left': {'spInd': 0, 'spVal': 0.706961, 'left': 114.554706, 'right': 106.87708587499999}, 'right': 114.1516242857143}, 'right': {'spInd': 0, 'spVal': 0.613004, 'left': 93.67344971428572, 'right': {'spInd': 0, 'spVal': 0.582311, 'left': 123.2101316, 'right': 101.580533}}}}, 'right': {'spInd': 0, 'spVal': 0.457563, 'left': 7.969946125, 'right': {'spInd': 0, 'spVal': 0.126833, 'left': {'spInd': 0, 'spVal': 0.373501, 'left': {'spInd': 0, 'spVal': 0.437652, 'left': -12.558604833333334, 'right': {'spInd': 0, 'spVal': 0.412516, 'left': 14.38417875, 'right': 1.383060875000001}}, 'right': {'spInd': 0, 'spVal': 0.335182, 'left': {'spInd': 0, 'spVal': 0.350725, 'left': -15.08511175, 'right': -22.693879600000002}, 'right': {'spInd': 0, 'spVal': 0.324274, 'left': 15.05929075, 'right': {'spInd': 0, 'spVal': 0.297107, 'left': -19.9941552, 'right': {'spInd': 0, 'spVal': 0.166765, 'left': {'spInd': 0, 'spVal': 0.202161, 'left': -5.801872785714286, 'right': 3.4496025}, 'right': {'spInd': 0, 'spVal': 0.156067, 'left': -12.1079725, 'right': -6.247900000000001}}}}}}, 'right': {'spInd': 0, 'spVal': 0.084661, 'left': 6.509843285714284, 'right': {'spInd': 0, 'spVal': 0.044737, 'left': -2.544392714285715, 'right': 4.091626}}}}}\n"
     ]
    }
   ],
   "source": [
    "train_filename = 'ex2.txt'\n",
    "train_Data = loadDataSet(train_filename)\n",
    "train_Mat = np.mat(train_Data)\n",
    "tree = createTree(train_Mat)\n",
    "print(tree)\n",
    "print('*'*70)\n",
    "test_filename = 'ex2test.txt'\n",
    "test_Data = loadDataSet(test_filename)\n",
    "test_Mat = np.mat(test_Data)\n",
    "print(prune(tree, test_Mat))"
   ]
  },
  {
   "cell_type": "code",
   "execution_count": 33,
   "metadata": {},
   "outputs": [],
   "source": [
    "def lineaSovle(dataSet):\n",
    "    m,n=np.shape(dataSet)\n",
    "    X=np.mat(np.ones((m,n)))\n",
    "    Y=np.mat(np.ones((m,1)))\n",
    "    X[:,1:n]=dataSet[:,0:n-1]\n",
    "    Y=dataSet[:,-1]\n",
    "    xTx=X.T*X\n",
    "    if np.linalg.det(xTx)==0.0:\n",
    "        print('矩阵不可逆')\n",
    "    ws=xTx.I*(X.T*Y)\n",
    "    return ws,X,Y\n",
    "def modelLeaf(dataSet):\n",
    "    ws,X,Y=lineaSovle(dataSet)\n",
    "    return ws\n",
    "def modelErr(dataSet):\n",
    "    ws,X,Y=lineaSovle(dataSet)\n",
    "    yHat=X*ws\n",
    "    return sum(np.power(Y-yHat,2))"
   ]
  },
  {
   "cell_type": "code",
   "execution_count": 38,
   "metadata": {},
   "outputs": [
    {
     "name": "stdout",
     "output_type": "stream",
     "text": [
      "{'spInd': 0, 'spVal': 0.285477, 'left': matrix([[1.69855694e-03],\n",
      "        [1.19647739e+01]]), 'right': matrix([[3.46877936],\n",
      "        [1.18521743]])}\n"
     ]
    }
   ],
   "source": [
    "myDat=loadDataSet('exp2.txt')\n",
    "myMat=np.mat(myDat)\n",
    "modeltree=createTree(myMat,modelLeaf,modelErr,(1,10))\n",
    "print(modeltree)"
   ]
  },
  {
   "cell_type": "code",
   "execution_count": 58,
   "metadata": {},
   "outputs": [],
   "source": [
    "def plotDataSet(fileName):\n",
    "    dataMat=loadDataSet(fileName)\n",
    "    n=len(dataMat)\n",
    "    xcord=[]\n",
    "    ycord=[]\n",
    "    for i in range(n):\n",
    "        xcord.append(dataMat[i][0])\n",
    "        ycord.append(dataMat[i][1])\n",
    "    m=len(xcord)\n",
    "    X=np.ones((m,2))\n",
    "    X[:,1]=xcord\n",
    "    Y1=X*modeltree['left']\n",
    "    Y2=X*modeltree['right']\n",
    "    fig=plt.figure()\n",
    "    ax=fig.add_subplot(111)\n",
    "    ax.scatter(xcord,ycord,s=20,c='blue',alpha=.5)\n",
    "    ax.plot(xcord,Y1)\n",
    "    ax.plot(xcord,Y2)\n",
    "    plt.title('DataSet')\n",
    "    plt.xlabel('X')"
   ]
  },
  {
   "cell_type": "code",
   "execution_count": 59,
   "metadata": {},
   "outputs": [
    {
     "data": {
      "image/png": "[encoded data removed]",
      "text/plain": [
       "<Figure size 432x288 with 1 Axes>"
      ]
     },
     "metadata": {},
     "output_type": "display_data"
    }
   ],
   "source": [
    "plotDataSet('exp2.txt')"
   ]
  },
  {
   "cell_type": "code",
   "execution_count": 70,
   "metadata": {},
   "outputs": [],
   "source": [
    "def regTreeEval(model,inDat):\n",
    "    return float(model)\n",
    "def modelTreeEval(model,inDat):\n",
    "    n=np.shape(inDat)[1]\n",
    "    X=np.mat(np.ones(1,n+1))\n",
    "    X[:,1:n+1]=inDat\n",
    "    return float(X*model)\n",
    "def treeForeCast(tree,inDat,modelEval=regTreeEval):\n",
    "    if not isTree(tree): return modelEval(tree,inDat)\n",
    "    if (inDat[tree['spInd']]-tree['spVal']).any():\n",
    "        if isTree(tree['left']):\n",
    "            return treeForeCast(tree['left'],inDat,modelEval)\n",
    "        else:\n",
    "            return modelEval(tree['left'],inDat)\n",
    "    else:\n",
    "        if isTree(tree['right']):\n",
    "            return treeForeCast(tree['right'],inDat,modelEval)\n",
    "        else:\n",
    "            return modelEval(tree['right'],inDat)\n",
    "def createForeCast(tree,testData,modelEval=regTreeEval):\n",
    "    m=len(test_Data)\n",
    "    yHat=np.mat(np.zeros((m,1)))\n",
    "    for i in range(m):\n",
    "        yHat[i,0]=treeForeCast(tree,np.mat(test_Data[i]),modelEval)\n",
    "    return yHat"
   ]
  },
  {
   "cell_type": "code",
   "execution_count": 71,
   "metadata": {},
   "outputs": [
    {
     "data": {
      "text/plain": [
       "4.207666451996599e-17"
      ]
     },
     "execution_count": 71,
     "metadata": {},
     "output_type": "execute_result"
    }
   ],
   "source": [
    "trainMat=np.mat(loadDataSet('bikeSpeedVsIq_train.txt'))\n",
    "testMat=np.mat(loadDataSet('bikeSpeedVsIq_test.txt'))\n",
    "myTree=createTree(train_Mat,ops=(1,20))\n",
    "yHat=createForeCast(myTree,testMat[:,0])\n",
    "np.corrcoef(yHat,testMat[:,1],rowvar=0)[0,1]"
   ]
  },
  {
   "cell_type": "code",
   "execution_count": null,
   "metadata": {},
   "outputs": [],
   "source": []
  },
  {
   "cell_type": "code",
   "execution_count": null,
   "metadata": {},
   "outputs": [],
   "source": []
  },
  {
   "cell_type": "code",
   "execution_count": null,
   "metadata": {},
   "outputs": [],
   "source": []
  },
  {
   "cell_type": "code",
   "execution_count": null,
   "metadata": {},
   "outputs": [],
   "source": []
  }
 ],
 "metadata": {
  "kernelspec": {
   "display_name": "Python 3",
   "language": "python",
   "name": "python3"
  },
  "language_info": {
   "codemirror_mode": {
    "name": "ipython",
    "version": 3
   },
   "file_extension": ".py",
   "mimetype": "text/x-python",
   "name": "python",
   "nbconvert_exporter": "python",
   "pygments_lexer": "ipython3",
   "version": "3.6.5"
  }
 },
 "nbformat": 4,
 "nbformat_minor": 2
}
